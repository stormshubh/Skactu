{
 "cells": [
  {
   "cell_type": "markdown",
   "id": "c4f9920f",
   "metadata": {},
   "source": [
    "1)i)Tuples are ordered\n",
    "\n",
    "ii) Tuples are immutable\n",
    "\n",
    "iii)Tuples are assigned within parenthisis\n",
    "\n",
    "Tuples are immutable, once created cannot be modified.\n",
    "\n",
    "2)The two tuple methods are :\n",
    "\n",
    "i)count()\n",
    "\n",
    "ex - \n",
    "\n",
    "my_tuple = (1, 2, 3, 2, 4, 2)\n",
    "\n",
    "count = my_tuple.count(2)\n",
    "\n",
    "ii)index\n",
    "\n",
    "ex - \n",
    "\n",
    "\n",
    "my_tuple = (1, 2, 3, 2, 4, 2)\n",
    "\n",
    "i= my_tuple.index(3)\n",
    "\n",
    "Tuple only supports two methods because of its immutability"
   ]
  },
  {
   "cell_type": "code",
   "execution_count": 1,
   "id": "67426533",
   "metadata": {},
   "outputs": [
    {
     "data": {
      "text/plain": [
       "{1, 2, 3, 4}"
      ]
     },
     "execution_count": 1,
     "metadata": {},
     "output_type": "execute_result"
    }
   ],
   "source": [
    "# 3)Sets do not allow duplicate items\n",
    "s1=set()\n",
    "List = [1, 1, 1, 2, 1, 3, 1, 4, 2, 1, 2, 2, 2, 3, 2, 4, 3, 1, 3, 2, 3, 3, 3, 4, 4, 1, 4, 2, 4, 3, 4, 4]\n",
    "for i in List:\n",
    "    s1.add(i)\n",
    "s1    "
   ]
  },
  {
   "cell_type": "markdown",
   "id": "f9d21129",
   "metadata": {},
   "source": [
    "4) Union - From this operation on two sets, all the elements from both set without repeating is put in a single set.\n",
    "\n",
    "ex -\n",
    "\n",
    "set7 = {1, 2, 3}\n",
    "\n",
    "set8 = {2, 3, 4}\n",
    "\n",
    "union_set = set7.union(set8)                 # \n",
    "\n",
    "Union of two sets\n",
    "\n",
    "print(union_set)\n",
    "\n",
    "update() - This allows you to add multiple items to the set\n",
    "\n",
    "ex -\n",
    "\n",
    "set6 = {1, 2, 3,6,8,6}\n",
    "\n",
    "set6.update([5,7])\n",
    "\n",
    "5) Dicts - A dictionary in Python is a collection of key-value pairs. It is a built-in data type that allows you to store and retrieve data using a unique key for each value. \n",
    "\n",
    "ex - \n",
    "\n",
    "my_dict = {\"name\": \"John\", \"age\": 25}\n",
    "\n",
    "Dicts are unordered\n",
    "\n",
    "6) Yes\n",
    "\n",
    "student = {\"name\": \"John\",\"age\": 20,\"details\":{\"major\": \"Computer Science\",\"GPA\": 3.5}}"
   ]
  },
  {
   "cell_type": "code",
   "execution_count": 2,
   "id": "b99757db",
   "metadata": {},
   "outputs": [
    {
     "name": "stdout",
     "output_type": "stream",
     "text": [
      "{'language': 'Python', 'course': 'Data Science Masters', 'topics': ['Python', 'Machine Learning', 'Deep Learning']}\n"
     ]
    }
   ],
   "source": [
    "#7\n",
    "dict1 = {'language': 'Python', 'course': 'Data Science Masters'}\n",
    "dict1.setdefault('topics', ['Python', 'Machine Learning', 'Deep Learning'])\n",
    "\n",
    "print(dict1)"
   ]
  },
  {
   "cell_type": "markdown",
   "id": "18b34052",
   "metadata": {},
   "source": [
    "8) the three view objects are :\n",
    "\n",
    "i) keys()\n",
    "ii) values()\n",
    "iii) items()\n",
    "\n"
   ]
  },
  {
   "cell_type": "code",
   "execution_count": 3,
   "id": "33ea0b9b",
   "metadata": {},
   "outputs": [
    {
     "data": {
      "text/plain": [
       "dict_keys(['Sport', 'Teams'])"
      ]
     },
     "execution_count": 3,
     "metadata": {},
     "output_type": "execute_result"
    }
   ],
   "source": [
    "dict1 = {'Sport': 'Cricket' , 'Teams': ['India', 'Australia', 'England', 'South Africa', 'Sri Lanka', 'New Zealand']}\n",
    "dict1.keys()"
   ]
  },
  {
   "cell_type": "code",
   "execution_count": 4,
   "id": "a786f6c6",
   "metadata": {},
   "outputs": [
    {
     "data": {
      "text/plain": [
       "dict_values(['Cricket', ['India', 'Australia', 'England', 'South Africa', 'Sri Lanka', 'New Zealand']])"
      ]
     },
     "execution_count": 4,
     "metadata": {},
     "output_type": "execute_result"
    }
   ],
   "source": [
    "dict1.values()"
   ]
  },
  {
   "cell_type": "code",
   "execution_count": 5,
   "id": "eca49816",
   "metadata": {},
   "outputs": [
    {
     "data": {
      "text/plain": [
       "dict_items([('Sport', 'Cricket'), ('Teams', ['India', 'Australia', 'England', 'South Africa', 'Sri Lanka', 'New Zealand'])])"
      ]
     },
     "execution_count": 5,
     "metadata": {},
     "output_type": "execute_result"
    }
   ],
   "source": [
    "dict1.items()"
   ]
  },
  {
   "cell_type": "code",
   "execution_count": null,
   "id": "0b31d249",
   "metadata": {},
   "outputs": [],
   "source": []
  }
 ],
 "metadata": {
  "kernelspec": {
   "display_name": "Python 3 (ipykernel)",
   "language": "python",
   "name": "python3"
  },
  "language_info": {
   "codemirror_mode": {
    "name": "ipython",
    "version": 3
   },
   "file_extension": ".py",
   "mimetype": "text/x-python",
   "name": "python",
   "nbconvert_exporter": "python",
   "pygments_lexer": "ipython3",
   "version": "3.9.12"
  }
 },
 "nbformat": 4,
 "nbformat_minor": 5
}
