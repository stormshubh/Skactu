{
 "cells": [
  {
   "cell_type": "markdown",
   "id": "59e02d7a",
   "metadata": {},
   "source": [
    "!) def"
   ]
  },
  {
   "cell_type": "code",
   "execution_count": 5,
   "id": "6d8042bf",
   "metadata": {},
   "outputs": [],
   "source": [
    "def oddnum():\n",
    "    l=[]\n",
    "    for i in range(25):\n",
    "        if i%2 != 0:\n",
    "            l.append(i)\n",
    "    return l"
   ]
  },
  {
   "cell_type": "code",
   "execution_count": 6,
   "id": "62ba971d",
   "metadata": {},
   "outputs": [
    {
     "data": {
      "text/plain": [
       "[1, 3, 5, 7, 9, 11, 13, 15, 17, 19, 21, 23]"
      ]
     },
     "execution_count": 6,
     "metadata": {},
     "output_type": "execute_result"
    }
   ],
   "source": [
    "oddnum()"
   ]
  },
  {
   "cell_type": "raw",
   "id": "58035cc4",
   "metadata": {},
   "source": [
    "2)args and Kwargs are used when number of arguments to be passed to the functions are not known, *args gives result of functions in terms of tuples while **kwargs does so in terms of key-value pairs"
   ]
  },
  {
   "cell_type": "code",
   "execution_count": 10,
   "id": "8db00860",
   "metadata": {},
   "outputs": [],
   "source": [
    "def tc(*args):\n",
    "    for i in args:\n",
    "        print(i)"
   ]
  },
  {
   "cell_type": "code",
   "execution_count": 13,
   "id": "56cbfd05",
   "metadata": {},
   "outputs": [
    {
     "name": "stdout",
     "output_type": "stream",
     "text": [
      "10\n",
      "guns\n",
      "n\n",
      "roses\n",
      "[6, 1, 9]\n"
     ]
    }
   ],
   "source": [
    "tc(10,\"guns\",\"n\",\"roses\",[6,1,9])"
   ]
  },
  {
   "cell_type": "code",
   "execution_count": 19,
   "id": "5fc1ec40",
   "metadata": {},
   "outputs": [],
   "source": [
    "def tc1(**args):\n",
    "    return args"
   ]
  },
  {
   "cell_type": "code",
   "execution_count": 20,
   "id": "63862f72",
   "metadata": {},
   "outputs": [
    {
     "data": {
      "text/plain": [
       "{'a': 'maroon 5', 'b': 23, 'c': ['highway', 'to', 'hell']}"
      ]
     },
     "execution_count": 20,
     "metadata": {},
     "output_type": "execute_result"
    }
   ],
   "source": [
    "tc1(a=\"maroon 5\",b=23,c=[\"highway\",\"to\",\"hell\"])"
   ]
  },
  {
   "cell_type": "markdown",
   "id": "f73f30b1",
   "metadata": {},
   "source": [
    "3) An iterator is an object used to iterate through an iterable like list, tuples etc"
   ]
  },
  {
   "cell_type": "markdown",
   "id": "49e92deb",
   "metadata": {},
   "source": [
    "iter() method is used to intialise the iterator object\n",
    "next() method is used to iterate through the iterable"
   ]
  },
  {
   "cell_type": "code",
   "execution_count": 47,
   "id": "f72eed05",
   "metadata": {},
   "outputs": [],
   "source": [
    "r=[2, 4, 6, 8, 10, 12, 14, 16, 18, 20]\n",
    "l=iter(r)"
   ]
  },
  {
   "cell_type": "code",
   "execution_count": 49,
   "id": "dff2b279",
   "metadata": {},
   "outputs": [
    {
     "name": "stdout",
     "output_type": "stream",
     "text": [
      "2\n",
      "4\n",
      "6\n",
      "8\n",
      "10\n"
     ]
    }
   ],
   "source": [
    "for i in range(5):\n",
    "    print(next(l))"
   ]
  },
  {
   "cell_type": "markdown",
   "id": "8724b4ec",
   "metadata": {},
   "source": [
    "4) Generators in Python are special type of functions that allow you to create an iterable sequence of values. Generators obtain data values on the fly. Unlike lists, where data is stored, generators are efficient as the generator function just includes the method of obtaining the data.\n",
    "\n",
    "   you can create a generator by using the yield statement in a function. The yield statement returns a value from the generator and suspends the execution of the function until the next value is requested."
   ]
  },
  {
   "cell_type": "code",
   "execution_count": 21,
   "id": "4ebf35c5",
   "metadata": {},
   "outputs": [],
   "source": [
    "def my_generator():\n",
    "    for i in range(5):\n",
    "        yield i"
   ]
  },
  {
   "cell_type": "code",
   "execution_count": 34,
   "id": "e38a5d1e",
   "metadata": {},
   "outputs": [],
   "source": [
    "# 5\n",
    "def primgen():\n",
    "    for i in range (2,1001):\n",
    "        Yprime = True\n",
    "        if i>1 :\n",
    "            for j in range(2,i):\n",
    "                if i%j == 0 :\n",
    "                    Yprime = False\n",
    "            if Yprime:\n",
    "                yield i"
   ]
  },
  {
   "cell_type": "code",
   "execution_count": 35,
   "id": "61e39b33",
   "metadata": {},
   "outputs": [],
   "source": [
    "gen = primgen()"
   ]
  },
  {
   "cell_type": "code",
   "execution_count": 36,
   "id": "800d1a1b",
   "metadata": {},
   "outputs": [
    {
     "name": "stdout",
     "output_type": "stream",
     "text": [
      "1 - 2\n",
      "2 - 3\n",
      "3 - 5\n",
      "4 - 7\n",
      "5 - 11\n",
      "6 - 13\n",
      "7 - 17\n",
      "8 - 19\n",
      "9 - 23\n",
      "10 - 29\n",
      "11 - 31\n",
      "12 - 37\n",
      "13 - 41\n",
      "14 - 43\n",
      "15 - 47\n",
      "16 - 53\n",
      "17 - 59\n",
      "18 - 61\n",
      "19 - 67\n",
      "20 - 71\n"
     ]
    }
   ],
   "source": [
    "for i in range(20):\n",
    "    print(i+1,\"-\",next(gen))"
   ]
  },
  {
   "cell_type": "code",
   "execution_count": 16,
   "id": "c62ef9b7",
   "metadata": {},
   "outputs": [
    {
     "name": "stdout",
     "output_type": "stream",
     "text": [
      "2\n"
     ]
    }
   ],
   "source": [
    "print(next(gen))"
   ]
  },
  {
   "cell_type": "code",
   "execution_count": 17,
   "id": "ef195689",
   "metadata": {},
   "outputs": [
    {
     "name": "stdout",
     "output_type": "stream",
     "text": [
      "3\n"
     ]
    }
   ],
   "source": [
    "print(next(gen))"
   ]
  },
  {
   "cell_type": "code",
   "execution_count": 18,
   "id": "75c02918",
   "metadata": {},
   "outputs": [
    {
     "name": "stdout",
     "output_type": "stream",
     "text": [
      "5\n"
     ]
    }
   ],
   "source": [
    "print(next(gen))"
   ]
  },
  {
   "cell_type": "code",
   "execution_count": 19,
   "id": "0d51b51b",
   "metadata": {},
   "outputs": [
    {
     "name": "stdout",
     "output_type": "stream",
     "text": [
      "7\n"
     ]
    }
   ],
   "source": [
    "print(next(gen))"
   ]
  },
  {
   "cell_type": "code",
   "execution_count": 20,
   "id": "d42359e3",
   "metadata": {},
   "outputs": [
    {
     "name": "stdout",
     "output_type": "stream",
     "text": [
      "11\n"
     ]
    }
   ],
   "source": [
    "print(next(gen))"
   ]
  },
  {
   "cell_type": "code",
   "execution_count": 21,
   "id": "9fc1d35f",
   "metadata": {},
   "outputs": [
    {
     "name": "stdout",
     "output_type": "stream",
     "text": [
      "13\n"
     ]
    }
   ],
   "source": [
    "print(next(gen))"
   ]
  },
  {
   "cell_type": "code",
   "execution_count": 22,
   "id": "ca198076",
   "metadata": {},
   "outputs": [
    {
     "name": "stdout",
     "output_type": "stream",
     "text": [
      "17\n"
     ]
    }
   ],
   "source": [
    "print(next(gen))"
   ]
  },
  {
   "cell_type": "code",
   "execution_count": 23,
   "id": "7c8951d1",
   "metadata": {},
   "outputs": [
    {
     "name": "stdout",
     "output_type": "stream",
     "text": [
      "19\n"
     ]
    }
   ],
   "source": [
    "print(next(gen))"
   ]
  },
  {
   "cell_type": "code",
   "execution_count": 24,
   "id": "d90a2fd7",
   "metadata": {},
   "outputs": [
    {
     "name": "stdout",
     "output_type": "stream",
     "text": [
      "23\n"
     ]
    }
   ],
   "source": [
    "print(next(gen))"
   ]
  },
  {
   "cell_type": "code",
   "execution_count": 25,
   "id": "71060684",
   "metadata": {},
   "outputs": [
    {
     "name": "stdout",
     "output_type": "stream",
     "text": [
      "29\n"
     ]
    }
   ],
   "source": [
    "print(next(gen))"
   ]
  },
  {
   "cell_type": "code",
   "execution_count": 26,
   "id": "42c389a9",
   "metadata": {},
   "outputs": [
    {
     "name": "stdout",
     "output_type": "stream",
     "text": [
      "31\n"
     ]
    }
   ],
   "source": [
    "print(next(gen))"
   ]
  },
  {
   "cell_type": "code",
   "execution_count": 27,
   "id": "f8c96e61",
   "metadata": {},
   "outputs": [
    {
     "name": "stdout",
     "output_type": "stream",
     "text": [
      "37\n"
     ]
    }
   ],
   "source": [
    "print(next(gen))"
   ]
  },
  {
   "cell_type": "code",
   "execution_count": null,
   "id": "c0b8753d",
   "metadata": {},
   "outputs": [],
   "source": []
  }
 ],
 "metadata": {
  "kernelspec": {
   "display_name": "Python 3 (ipykernel)",
   "language": "python",
   "name": "python3"
  },
  "language_info": {
   "codemirror_mode": {
    "name": "ipython",
    "version": 3
   },
   "file_extension": ".py",
   "mimetype": "text/x-python",
   "name": "python",
   "nbconvert_exporter": "python",
   "pygments_lexer": "ipython3",
   "version": "3.9.12"
  }
 },
 "nbformat": 4,
 "nbformat_minor": 5
}
